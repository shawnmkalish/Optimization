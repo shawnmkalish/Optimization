{
 "cells": [
  {
   "cell_type": "code",
   "execution_count": 1,
   "id": "0fdf349d",
   "metadata": {},
   "outputs": [],
   "source": [
    "import tensorflow as tf\n",
    "import numpy as np\n",
    "import matplotlib.pyplot as plt\n",
    "import pandas as pd\n",
    "import gurobipy as gp\n",
    "import gym\n",
    "import time \n",
    "%matplotlib inline"
   ]
  },
  {
   "cell_type": "markdown",
   "id": "6528e717",
   "metadata": {},
   "source": [
    "# ---------------------------------------------------------------------------------------------------------------\n",
    "# NLP - Neural Networks------------------------------------------------------------------------------\n",
    "# ---------------------------------------------------------------------------------------------------------------"
   ]
  },
  {
   "cell_type": "code",
   "execution_count": 2,
   "id": "2af4b473",
   "metadata": {},
   "outputs": [],
   "source": [
    "### TIPS:\n",
    "\n",
    "# Remember to flatten after max_pooling! Then in the output the layers fed to the following \n",
    "# dense layer are listed as follows: flatten (Flatten) (None,250), so it would be 250!\n"
   ]
  },
  {
   "cell_type": "markdown",
   "id": "a4aee4c5",
   "metadata": {},
   "source": [
    "### Convolutional Neural Networks"
   ]
  },
  {
   "cell_type": "code",
   "execution_count": 3,
   "id": "b4cf5c35",
   "metadata": {},
   "outputs": [],
   "source": [
    "# An epoch consists of one full cycle through the training data. This is usually many steps. \n",
    "# If you have 2,000 images and use a batch size of 10 then 2,000/10 = 200 steps per epoch.\n",
    "# Keep in mind that if you have a validation set of say 0.2, then ((0.8*2000)/10)* # of epochs = Total training steps."
   ]
  },
  {
   "cell_type": "code",
   "execution_count": 4,
   "id": "f4bbff8c",
   "metadata": {},
   "outputs": [],
   "source": [
    "mnist = tf.keras.datasets.mnist\n",
    "#### x_train -> 60,000 images 28x28\n",
    "#### y_train -> 0-9\n",
    "#### x_test -> 10,000 images 28x28\n",
    "#### y_test -> 0-9 corresponding\n",
    "(x_train, y_train),(x_test, y_test) = mnist.load_data()\n",
    "# Normalize to make numbers 0-1\n",
    "x_train, x_test = x_train / 255.0, x_test / 255.0\n",
    "ndata_train = x_train.shape[0]\n",
    "ndata_test = x_test.shape[0]"
   ]
  },
  {
   "cell_type": "code",
   "execution_count": 5,
   "id": "c24b07af",
   "metadata": {},
   "outputs": [
    {
     "data": {
      "text/plain": [
       "(60000, 28, 28)"
      ]
     },
     "execution_count": 5,
     "metadata": {},
     "output_type": "execute_result"
    }
   ],
   "source": [
    "x_train.shape"
   ]
  },
  {
   "cell_type": "code",
   "execution_count": 6,
   "id": "ec185097",
   "metadata": {},
   "outputs": [
    {
     "data": {
      "text/plain": [
       "60000"
      ]
     },
     "execution_count": 6,
     "metadata": {},
     "output_type": "execute_result"
    }
   ],
   "source": [
    "ndata_train"
   ]
  },
  {
   "cell_type": "code",
   "execution_count": 7,
   "id": "66c31683",
   "metadata": {},
   "outputs": [
    {
     "data": {
      "text/plain": [
       "10000"
      ]
     },
     "execution_count": 7,
     "metadata": {},
     "output_type": "execute_result"
    }
   ],
   "source": [
    "ndata_test"
   ]
  },
  {
   "cell_type": "code",
   "execution_count": 8,
   "id": "921922e8",
   "metadata": {},
   "outputs": [],
   "source": [
    "## Reshaping for convolutional NN\n",
    "## number of images, rows, columns, color code\n",
    "x_train = x_train.reshape((ndata_train,28,28,1))\n",
    "x_test = x_test.reshape((ndata_test,28,28,1))\n",
    "xshape = x_train.shape[1:4]"
   ]
  },
  {
   "cell_type": "code",
   "execution_count": 9,
   "id": "c8079781",
   "metadata": {},
   "outputs": [
    {
     "data": {
      "image/png": "[encoded data removed]",
      "text/plain": [
       "<Figure size 432x288 with 1 Axes>"
      ]
     },
     "metadata": {
      "needs_background": "light"
     },
     "output_type": "display_data"
    }
   ],
   "source": [
    "plt.imshow(x_train[10001,:,:], cmap = 'gray');"
   ]
  },
  {
   "cell_type": "code",
   "execution_count": 10,
   "id": "aacdbe31",
   "metadata": {},
   "outputs": [],
   "source": [
    "NNmodel = tf.keras.models.Sequential([\n",
    "        tf.keras.layers.Conv2D(filters=50, kernel_size=(2,2), activation=tf.nn.relu, input_shape=xshape),\n",
    "        tf.keras.layers.MaxPooling2D(pool_size = (2,2), strides=2),\n",
    "        tf.keras.layers.Conv2D(filters=25, kernel_size=(3,3), activation=tf.nn.relu), \n",
    "        tf.keras.layers.MaxPooling2D(pool_size = (2,2), strides=2),\n",
    "        tf.keras.layers.Flatten(),\n",
    "        tf.keras.layers.Dense(300, activation=tf.nn.elu, kernel_regularizer = tf.keras.regularizers.l1(0.0000005)),\n",
    "        tf.keras.layers.Dropout(0.08),\n",
    "        tf.keras.layers.Dense(150, activation=tf.nn.elu),\n",
    "        tf.keras.layers.Dropout(0.04),\n",
    "        tf.keras.layers.Dense(75, activation=tf.nn.elu),\n",
    "        tf.keras.layers.Dropout(0.01),\n",
    "        tf.keras.layers.Dense(10,activation=tf.nn.softmax)\n",
    "        ])"
   ]
  },
  {
   "cell_type": "code",
   "execution_count": 11,
   "id": "3a8bf55e",
   "metadata": {},
   "outputs": [
    {
     "name": "stdout",
     "output_type": "stream",
     "text": [
      "Model: \"sequential\"\n",
      "_________________________________________________________________\n",
      " Layer (type)                Output Shape              Param #   \n",
      "=================================================================\n",
      " conv2d (Conv2D)             (None, 27, 27, 50)        250       \n",
      "                                                                 \n",
      " max_pooling2d (MaxPooling2D  (None, 13, 13, 50)       0         \n",
      " )                                                               \n",
      "                                                                 \n",
      " conv2d_1 (Conv2D)           (None, 11, 11, 25)        11275     \n",
      "                                                                 \n",
      " max_pooling2d_1 (MaxPooling  (None, 5, 5, 25)         0         \n",
      " 2D)                                                             \n",
      "                                                                 \n",
      " flatten (Flatten)           (None, 625)               0         \n",
      "                                                                 \n",
      " dense (Dense)               (None, 300)               187800    \n",
      "                                                                 \n",
      " dropout (Dropout)           (None, 300)               0         \n",
      "                                                                 \n",
      " dense_1 (Dense)             (None, 150)               45150     \n",
      "                                                                 \n",
      " dropout_1 (Dropout)         (None, 150)               0         \n",
      "                                                                 \n",
      " dense_2 (Dense)             (None, 75)                11325     \n",
      "                                                                 \n",
      " dropout_2 (Dropout)         (None, 75)                0         \n",
      "                                                                 \n",
      " dense_3 (Dense)             (None, 10)                760       \n",
      "                                                                 \n",
      "=================================================================\n",
      "Total params: 256,560\n",
      "Trainable params: 256,560\n",
      "Non-trainable params: 0\n",
      "_________________________________________________________________\n"
     ]
    }
   ],
   "source": [
    "NNmodel.compile(optimizer='adam',\n",
    "              loss='sparse_categorical_crossentropy',\n",
    "              metrics=['accuracy'])\n",
    "\n",
    "NNmodel.summary()"
   ]
  },
  {
   "cell_type": "code",
   "execution_count": 12,
   "id": "03171a2b",
   "metadata": {},
   "outputs": [
    {
     "name": "stdout",
     "output_type": "stream",
     "text": [
      "480/480 [==============================] - 11s 23ms/step - loss: 0.2110 - accuracy: 0.9366 - val_loss: 0.0788 - val_accuracy: 0.9772\n"
     ]
    },
    {
     "data": {
      "text/plain": [
       "<keras.callbacks.History at 0x1fa85cb6ee0>"
      ]
     },
     "execution_count": 12,
     "metadata": {},
     "output_type": "execute_result"
    }
   ],
   "source": [
    "#Train with validation set\n",
    "NNmodel.fit(x_train,y_train,epochs=1,validation_split=0.2,batch_size=100)"
   ]
  },
  {
   "cell_type": "code",
   "execution_count": 13,
   "id": "85ce4e10",
   "metadata": {},
   "outputs": [
    {
     "name": "stdout",
     "output_type": "stream",
     "text": [
      "Epoch 1/2\n",
      "600/600 [==============================] - 13s 21ms/step - loss: 0.0709 - accuracy: 0.9790\n",
      "Epoch 2/2\n",
      "600/600 [==============================] - 13s 21ms/step - loss: 0.0522 - accuracy: 0.9852\n"
     ]
    },
    {
     "data": {
      "text/plain": [
       "<keras.callbacks.History at 0x1fa8847bbb0>"
      ]
     },
     "execution_count": 13,
     "metadata": {},
     "output_type": "execute_result"
    }
   ],
   "source": [
    "#Now train on entire training set\n",
    "NNmodel.fit(x_train,y_train,epochs=2,batch_size=100)"
   ]
  },
  {
   "cell_type": "code",
   "execution_count": 14,
   "id": "747bf720",
   "metadata": {},
   "outputs": [
    {
     "name": "stdout",
     "output_type": "stream",
     "text": [
      "313/313 [==============================] - 1s 3ms/step - loss: 0.0592 - accuracy: 0.9810\n",
      "This model predicts 98.1000006198883% of the test data correctly\n"
     ]
    }
   ],
   "source": [
    "print('This model predicts '+str(NNmodel.evaluate(x_test,y_test)[1]*100) +'% of the test data correctly')"
   ]
  },
  {
   "cell_type": "code",
   "execution_count": 15,
   "id": "35ea4245",
   "metadata": {},
   "outputs": [
    {
     "name": "stdout",
     "output_type": "stream",
     "text": [
      "0.981\n"
     ]
    }
   ],
   "source": [
    "pred_probs = NNmodel.predict(x_test)\n",
    "pred2 = np.argmax(pred_probs, axis=1)\n",
    "print(np.mean(pred2 == y_test))"
   ]
  },
  {
   "cell_type": "code",
   "execution_count": 16,
   "id": "fd1c4ac8",
   "metadata": {},
   "outputs": [],
   "source": [
    "df  = pd.DataFrame(index=[x for x in range(len(x_test)) ], columns = ['actual','predicted']).fillna(0)\n",
    "for i in range(len(x_test)):\n",
    "    df.loc[i,'actual'] = y_test[i]\n",
    "    df.loc[i,'predicted'] = np.argmax(pred_probs[i])"
   ]
  },
  {
   "cell_type": "code",
   "execution_count": 17,
   "id": "53d0cab4",
   "metadata": {},
   "outputs": [
    {
     "data": {
      "text/html": [
       "<div>\n",
       "<style scoped>\n",
       "    .dataframe tbody tr th:only-of-type {\n",
       "        vertical-align: middle;\n",
       "    }\n",
       "\n",
       "    .dataframe tbody tr th {\n",
       "        vertical-align: top;\n",
       "    }\n",
       "\n",
       "    .dataframe thead th {\n",
       "        text-align: right;\n",
       "    }\n",
       "</style>\n",
       "<table border=\"1\" class=\"dataframe\">\n",
       "  <thead>\n",
       "    <tr style=\"text-align: right;\">\n",
       "      <th></th>\n",
       "      <th>actual</th>\n",
       "      <th>predicted</th>\n",
       "    </tr>\n",
       "  </thead>\n",
       "  <tbody>\n",
       "    <tr>\n",
       "      <th>0</th>\n",
       "      <td>7</td>\n",
       "      <td>7</td>\n",
       "    </tr>\n",
       "    <tr>\n",
       "      <th>1</th>\n",
       "      <td>2</td>\n",
       "      <td>2</td>\n",
       "    </tr>\n",
       "    <tr>\n",
       "      <th>2</th>\n",
       "      <td>1</td>\n",
       "      <td>1</td>\n",
       "    </tr>\n",
       "    <tr>\n",
       "      <th>3</th>\n",
       "      <td>0</td>\n",
       "      <td>0</td>\n",
       "    </tr>\n",
       "    <tr>\n",
       "      <th>4</th>\n",
       "      <td>4</td>\n",
       "      <td>4</td>\n",
       "    </tr>\n",
       "  </tbody>\n",
       "</table>\n",
       "</div>"
      ],
      "text/plain": [
       "   actual  predicted\n",
       "0       7          7\n",
       "1       2          2\n",
       "2       1          1\n",
       "3       0          0\n",
       "4       4          4"
      ]
     },
     "execution_count": 17,
     "metadata": {},
     "output_type": "execute_result"
    }
   ],
   "source": [
    "df.head()"
   ]
  },
  {
   "cell_type": "code",
   "execution_count": 18,
   "id": "fe882ee5",
   "metadata": {},
   "outputs": [
    {
     "data": {
      "text/plain": [
       "2    34\n",
       "5    34\n",
       "4    30\n",
       "8    30\n",
       "7    23\n",
       "9    17\n",
       "6    12\n",
       "0     7\n",
       "3     3\n",
       "Name: actual, dtype: int64"
      ]
     },
     "execution_count": 18,
     "metadata": {},
     "output_type": "execute_result"
    }
   ],
   "source": [
    "df[df.actual != df.predicted]['actual'].value_counts().sort_values(ascending = False)"
   ]
  },
  {
   "cell_type": "code",
   "execution_count": 19,
   "id": "7a3a860b",
   "metadata": {},
   "outputs": [
    {
     "name": "stdout",
     "output_type": "stream",
     "text": [
      "Misclassification # 1\n",
      "An image of a number 6 was incorrectly classified as the number 5\n",
      "1014 \n",
      "\n",
      "Misclassification # 2\n",
      "An image of a number 6 was incorrectly classified as the number 1\n",
      "2135 \n",
      "\n",
      "Misclassification # 3\n",
      "An image of a number 6 was incorrectly classified as the number 5\n",
      "2454 \n",
      "\n",
      "Misclassification # 4\n",
      "An image of a number 6 was incorrectly classified as the number 1\n",
      "2654 \n",
      "\n",
      "Misclassification # 5\n",
      "An image of a number 6 was incorrectly classified as the number 0\n",
      "3422 \n",
      "\n",
      "Misclassification # 6\n",
      "An image of a number 6 was incorrectly classified as the number 4\n",
      "3520 \n",
      "\n",
      "Misclassification # 7\n",
      "An image of a number 6 was incorrectly classified as the number 5\n",
      "3550 \n",
      "\n",
      "Misclassification # 8\n",
      "An image of a number 6 was incorrectly classified as the number 8\n",
      "3762 \n",
      "\n",
      "Misclassification # 9\n",
      "An image of a number 6 was incorrectly classified as the number 5\n",
      "4536 \n",
      "\n",
      "Misclassification # 10\n",
      "An image of a number 6 was incorrectly classified as the number 8\n",
      "4571 \n",
      "\n",
      "Misclassification # 11\n",
      "An image of a number 6 was incorrectly classified as the number 4\n",
      "5265 \n",
      "\n",
      "Misclassification # 12\n",
      "An image of a number 6 was incorrectly classified as the number 2\n",
      "6558 \n",
      "\n"
     ]
    }
   ],
   "source": [
    "## We see below the (# of number) that were misclassified as a different number:\n",
    "j = 0\n",
    "for i in range(len(df)):\n",
    "    if (df.actual[i] == 6) & (df.predicted[i] != 6):\n",
    "        j += 1\n",
    "        print(\"Misclassification #\", j)\n",
    "        print(\"An image of a number 6 was incorrectly classified as the number\", df.predicted[i])\n",
    "        print(i, \"\\n\")\n",
    "    i += 1"
   ]
  },
  {
   "cell_type": "code",
   "execution_count": 20,
   "id": "572d3a44",
   "metadata": {},
   "outputs": [
    {
     "name": "stdout",
     "output_type": "stream",
     "text": [
      "-----This was incorrectly classified as the number 5\n",
      "AxesImage(54,36;334.8x217.44)\n"
     ]
    },
    {
     "data": {
      "image/png": "[encoded data removed]",
      "text/plain": [
       "<Figure size 432x288 with 1 Axes>"
      ]
     },
     "metadata": {
      "needs_background": "light"
     },
     "output_type": "display_data"
    },
    {
     "name": "stdout",
     "output_type": "stream",
     "text": [
      "\n",
      "\n",
      "-----This was incorrectly classified as the number 5\n",
      "AxesImage(54,36;334.8x217.44)\n"
     ]
    },
    {
     "data": {
      "image/png": "[encoded data removed]",
      "text/plain": [
       "<Figure size 432x288 with 1 Axes>"
      ]
     },
     "metadata": {
      "needs_background": "light"
     },
     "output_type": "display_data"
    },
    {
     "name": "stdout",
     "output_type": "stream",
     "text": [
      "\n",
      "\n",
      "-----This was incorrectly classified as the number 5\n",
      "AxesImage(54,36;334.8x217.44)\n"
     ]
    },
    {
     "data": {
      "image/png": "[encoded data removed]",
      "text/plain": [
       "<Figure size 432x288 with 1 Axes>"
      ]
     },
     "metadata": {
      "needs_background": "light"
     },
     "output_type": "display_data"
    },
    {
     "name": "stdout",
     "output_type": "stream",
     "text": [
      "\n",
      "\n"
     ]
    }
   ],
   "source": [
    "## Now let's take a look at a few of the images of (number) that were misclassified:\n",
    "mylist1 = [786, 1014, 1182]\n",
    "mylist11 = [5,5,5]\n",
    "for i in range(3):\n",
    "    print(\"-----This was incorrectly classified as the number\", mylist11[i])\n",
    "    print(plt.imshow(x_test[mylist1[i],:,:], cmap = 'gray'))\n",
    "    plt.pause(0.0001)\n",
    "    print(\"\\n\")"
   ]
  },
  {
   "cell_type": "markdown",
   "id": "0a589caa",
   "metadata": {},
   "source": [
    "### Optimization Algorithms"
   ]
  },
  {
   "cell_type": "markdown",
   "id": "c2b8390d",
   "metadata": {},
   "source": [
    "#### GRADIENT DESCENT - optimization algorithm for finding a local minimum of a differentiable function. Gradient descent is simply used to find the values of a function's parameters (coefficients) that minimize a cost function as far as possible."
   ]
  },
  {
   "cell_type": "markdown",
   "id": "8c22b6f2",
   "metadata": {},
   "source": [
    "#### SGD - algorithm derivative is computed taking one point at a time."
   ]
  },
  {
   "cell_type": "markdown",
   "id": "954315aa",
   "metadata": {},
   "source": [
    "#### ADAM - Adaptive Moment Estimation, combination of RMSprop and Stochastic Gradient Descent with momentum. Adam computes adaptive learning rates for each parameter"
   ]
  },
  {
   "cell_type": "markdown",
   "id": "b97b07df",
   "metadata": {},
   "source": [
    "#### RMSprop - divides the learning rate by an exponentially decaying average of squared gradients."
   ]
  },
  {
   "cell_type": "markdown",
   "id": "7b891688",
   "metadata": {},
   "source": [
    "# ---------------------------------------------------------------------------------------------------------------\n",
    "# Simulation-----------------------------------------------------------------------------------------------\n",
    "# ---------------------------------------------------------------------------------------------------------------"
   ]
  },
  {
   "cell_type": "markdown",
   "id": "d4eed837",
   "metadata": {},
   "source": [
    "### Tossing coins a bunch of times"
   ]
  },
  {
   "cell_type": "code",
   "execution_count": 21,
   "id": "c5023dfd",
   "metadata": {},
   "outputs": [
    {
     "data": {
      "text/plain": [
       "array(['Tails', 'Tails', 'Tails', 'Heads', 'Tails', 'Heads', 'Heads',\n",
       "       'Tails', 'Tails', 'Heads', 'Tails', 'Heads', 'Tails', 'Heads',\n",
       "       'Tails'], dtype='<U5')"
      ]
     },
     "execution_count": 21,
     "metadata": {},
     "output_type": "execute_result"
    }
   ],
   "source": [
    "HT = np.random.choice(['Heads','Tails'],15,p=[0.5,0.5])\n",
    "HT"
   ]
  },
  {
   "cell_type": "code",
   "execution_count": 22,
   "id": "c180c73a",
   "metadata": {},
   "outputs": [
    {
     "data": {
      "text/plain": [
       "array(['Heads', 'Tails', 'Heads', 'Tails', 'Heads', 'Tails', 'Tails',\n",
       "       'Tails', 'Tails', 'Tails', 'Tails', 'Heads', 'Heads', 'Heads',\n",
       "       'Tails'], dtype='<U5')"
      ]
     },
     "execution_count": 22,
     "metadata": {},
     "output_type": "execute_result"
    }
   ],
   "source": [
    "HT = np.random.choice(['Heads','Tails'],15,p=[0.5,0.5])\n",
    "HT"
   ]
  },
  {
   "cell_type": "code",
   "execution_count": 23,
   "id": "8753ca63",
   "metadata": {},
   "outputs": [
    {
     "name": "stdout",
     "output_type": "stream",
     "text": [
      "['Heads' 'Tails' 'Heads' 'Tails']\n",
      "['Tails' 'Heads' 'Tails' 'Heads']\n",
      "['Heads' 'Tails' 'Heads' 'Tails']\n",
      "['Tails' 'Heads' 'Tails' 'Tails']\n",
      "['Heads' 'Tails' 'Tails' 'Tails']\n",
      "['Tails' 'Tails' 'Tails' 'Tails']\n",
      "['Tails' 'Tails' 'Tails' 'Tails']\n",
      "['Tails' 'Tails' 'Tails' 'Tails']\n",
      "['Tails' 'Tails' 'Tails' 'Heads']\n",
      "['Tails' 'Tails' 'Heads' 'Heads']\n",
      "['Tails' 'Heads' 'Heads' 'Heads']\n",
      "['Heads' 'Heads' 'Heads' 'Tails']\n"
     ]
    },
    {
     "data": {
      "text/plain": [
       "False"
      ]
     },
     "execution_count": 23,
     "metadata": {},
     "output_type": "execute_result"
    }
   ],
   "source": [
    "found_streak=False\n",
    "for start in range(12):\n",
    "    segment = HT[start:(start+4)]\n",
    "    print(segment)\n",
    "    if np.sum(segment=='Heads')==4:\n",
    "        found_streak = True\n",
    "    \n",
    "found_streak"
   ]
  },
  {
   "cell_type": "code",
   "execution_count": 25,
   "id": "e7583d71",
   "metadata": {},
   "outputs": [
    {
     "data": {
      "text/plain": [
       "0.37294"
      ]
     },
     "execution_count": 25,
     "metadata": {},
     "output_type": "execute_result"
    }
   ],
   "source": [
    "nsim = 100000\n",
    "streak4 = np.array([False]*nsim)\n",
    "for flip in range(nsim):\n",
    "    HT = np.random.choice(['Heads','Tails'],15,p=[0.5,0.5])\n",
    "    for start in range(12):\n",
    "        segment = HT[start:(start+4)]\n",
    "        if np.sum(segment=='Heads')==4:\n",
    "            streak4[flip] = True\n",
    "            \n",
    "np.mean(streak4)"
   ]
  },
  {
   "cell_type": "code",
   "execution_count": null,
   "id": "4c48f3fb",
   "metadata": {},
   "outputs": [],
   "source": []
  },
  {
   "cell_type": "code",
   "execution_count": null,
   "id": "470a21fc",
   "metadata": {},
   "outputs": [],
   "source": []
  },
  {
   "cell_type": "code",
   "execution_count": null,
   "id": "7df1fe85",
   "metadata": {},
   "outputs": [],
   "source": []
  },
  {
   "cell_type": "code",
   "execution_count": 26,
   "id": "c7cdb51c",
   "metadata": {},
   "outputs": [
    {
     "name": "stdout",
     "output_type": "stream",
     "text": [
      "Your average score is 4.66357\n"
     ]
    }
   ],
   "source": [
    "nsim = 100000\n",
    "finalTotal = []\n",
    "for roll in range(nsim):\n",
    "    total = []\n",
    "    x = 1\n",
    "    while x == 1:\n",
    "        if np.sum(total) > 3:\n",
    "            if np.sum(total) > 7:\n",
    "                total = 0\n",
    "            finalTotal.append(np.sum(total))\n",
    "            x = 0;\n",
    "        elif np.sum(total) < 4:\n",
    "            diceRoll = (np.random.choice(range(1,7)))\n",
    "            total.append(diceRoll)    \n",
    "    finalTotal.append(np.sum(total))           \n",
    "print(\"Your average score is\",np.mean(finalTotal))"
   ]
  },
  {
   "cell_type": "markdown",
   "id": "97a8b072",
   "metadata": {},
   "source": [
    "### Saving for retirement"
   ]
  },
  {
   "cell_type": "code",
   "execution_count": 27,
   "id": "cf1bdc30",
   "metadata": {},
   "outputs": [],
   "source": [
    "tvec = np.arange(35)\n",
    "value = 2000000\n",
    "value_vec = np.zeros(35)\n",
    "for year in range(35):\n",
    "    port_return = np.random.normal(size = 1, loc = 0.07, scale = 0.1)\n",
    "    value = value*(1+port_return)\n",
    "    value = value - 150000\n",
    "    if (value <= 0):\n",
    "        value = 0\n",
    "    value_vec[year] = value"
   ]
  },
  {
   "cell_type": "code",
   "execution_count": 28,
   "id": "798651c6",
   "metadata": {},
   "outputs": [
    {
     "data": {
      "image/png": "[encoded data removed]",
      "text/plain": [
       "<Figure size 432x288 with 1 Axes>"
      ]
     },
     "metadata": {
      "needs_background": "light"
     },
     "output_type": "display_data"
    }
   ],
   "source": [
    "plt.plot(tvec,value_vec);"
   ]
  },
  {
   "cell_type": "code",
   "execution_count": 29,
   "id": "dc048e08",
   "metadata": {},
   "outputs": [],
   "source": [
    "nsim = 10000\n",
    "def_vec_rd = np.array([False]*nsim)\n",
    "port_val_vec_rd = np.zeros(nsim)\n",
    "for sim in range(nsim):\n",
    "    value = 2000000\n",
    "    death = np.random.choice(range(25,36))\n",
    "    for year in range(death):\n",
    "        port_return = np.random.normal(size = 1, loc = 0.07, scale = 0.1)\n",
    "        value = value*(1+port_return)\n",
    "        value = value - 150000\n",
    "        if (value <= 0):\n",
    "            value = 0\n",
    "    if value <= 0:\n",
    "        def_vec_rd[sim] = True\n",
    "    port_val_vec_rd[sim] = value"
   ]
  },
  {
   "cell_type": "code",
   "execution_count": 30,
   "id": "fbbb5d3a",
   "metadata": {},
   "outputs": [
    {
     "data": {
      "text/plain": [
       "0.4655"
      ]
     },
     "execution_count": 30,
     "metadata": {},
     "output_type": "execute_result"
    }
   ],
   "source": [
    "np.mean(def_vec_rd)"
   ]
  },
  {
   "cell_type": "code",
   "execution_count": 31,
   "id": "a255c4e1",
   "metadata": {},
   "outputs": [
    {
     "data": {
      "image/png": "[encoded data removed]",
      "text/plain": [
       "<Figure size 432x288 with 1 Axes>"
      ]
     },
     "metadata": {
      "needs_background": "light"
     },
     "output_type": "display_data"
    }
   ],
   "source": [
    "plt.hist(port_val_vec_rd,bins=30);"
   ]
  },
  {
   "cell_type": "markdown",
   "id": "27f50cf2",
   "metadata": {},
   "source": [
    "### Calculate means,variances, etc of output"
   ]
  },
  {
   "cell_type": "code",
   "execution_count": 32,
   "id": "8a59858a",
   "metadata": {},
   "outputs": [],
   "source": [
    "##### Examples Above #####"
   ]
  },
  {
   "cell_type": "markdown",
   "id": "9e584c68",
   "metadata": {},
   "source": [
    "# ---------------------------------------------------------------------------------------------------------------\n",
    "# Stochastic Programming---------------------------------------------------------------------------\n",
    "# ---------------------------------------------------------------------------------------------------------------"
   ]
  },
  {
   "cell_type": "code",
   "execution_count": 33,
   "id": "58e1c77c",
   "metadata": {},
   "outputs": [],
   "source": [
    "### TIPS:\n",
    "\n",
    "# Linear, integer, non-linear, stochastic optimization all involve decisions at a single time"
   ]
  },
  {
   "cell_type": "markdown",
   "id": "acf4f873",
   "metadata": {},
   "source": [
    "### Expectations"
   ]
  },
  {
   "cell_type": "markdown",
   "id": "b49196a6",
   "metadata": {},
   "source": [
    "## $ 𝐸_Y [𝑓(𝑌)]  ≠  𝑓(𝐸[𝑌])\\  !!!!!! $"
   ]
  },
  {
   "cell_type": "markdown",
   "id": "8a67c588",
   "metadata": {},
   "source": [
    "### Sample Average Approximation (SAA)"
   ]
  },
  {
   "cell_type": "markdown",
   "id": "68c1b086",
   "metadata": {},
   "source": [
    "## $$ \\max_{x} \\frac{1}{n} \\sum^n_{i=1} f(x,Y_i) $$"
   ]
  },
  {
   "cell_type": "markdown",
   "id": "9ea22387",
   "metadata": {},
   "source": [
    "#### The newsvendor problem is an example of SAA.    \n",
    "#### SAA is biased! SAA typically overestimates how well you can do! ####"
   ]
  },
  {
   "cell_type": "markdown",
   "id": "d70d61a1",
   "metadata": {},
   "source": [
    "### Formulating as LP/MIP"
   ]
  },
  {
   "cell_type": "code",
   "execution_count": 34,
   "id": "b3db5176",
   "metadata": {},
   "outputs": [],
   "source": [
    "## Look at oil example from final exam practice questions"
   ]
  },
  {
   "cell_type": "markdown",
   "id": "8fda05d7",
   "metadata": {},
   "source": [
    "# ---------------------------------------------------------------------------------------------------------------\n",
    "# Dynamic Programming------------------------------------------------------------------------------\n",
    "# ---------------------------------------------------------------------------------------------------------------"
   ]
  },
  {
   "cell_type": "markdown",
   "id": "8067568d",
   "metadata": {},
   "source": [
    "### Multi-Period Decision Making"
   ]
  },
  {
   "cell_type": "code",
   "execution_count": 35,
   "id": "5b43e673",
   "metadata": {},
   "outputs": [],
   "source": [
    "# Fishing Example\n",
    "# Mining Example"
   ]
  },
  {
   "cell_type": "markdown",
   "id": "f6baa261",
   "metadata": {},
   "source": [
    "### Working Backwards"
   ]
  },
  {
   "cell_type": "markdown",
   "id": "38de3bfc",
   "metadata": {},
   "source": [
    "### Problem Formulation"
   ]
  },
  {
   "cell_type": "markdown",
   "id": "9432bbc4",
   "metadata": {},
   "source": [
    "**• State variables**\n",
    "    – What information do you need to describe where you are  \n",
    "**• Choice/Decision variables**\n",
    "    – What can you choose to do  \n",
    "**• Dynamics**\n",
    "    – How do choice variables combine with state variables to evolve through time  \n",
    "**• Value Function**\n",
    "    – Discounted value of all future payoffs  \n",
    "**• Bellman Equation**\n",
    "    – Value today is immediate payoff plus discounted payoff tomorrow  \n",
    "**• Terminal/Boundary Condition**\n",
    "    – Value function after the last time step"
   ]
  },
  {
   "cell_type": "markdown",
   "id": "2df9587f",
   "metadata": {},
   "source": [
    "### Shortest Path Problems"
   ]
  },
  {
   "cell_type": "markdown",
   "id": "3426ac89",
   "metadata": {},
   "source": [
    "### Stochastic Dynamic Programming"
   ]
  },
  {
   "cell_type": "markdown",
   "id": "f6ac9fd1",
   "metadata": {},
   "source": [
    "### Games Against Opponents"
   ]
  },
  {
   "cell_type": "code",
   "execution_count": 41,
   "id": "59120a92",
   "metadata": {},
   "outputs": [],
   "source": [
    "def solve_coin_game(coins):\n",
    "    nc = len(coins)\n",
    "    U = np.zeros((nc,nc))*np.nan # 0 means pick the left coin, 1 means pick the right coin\n",
    "    V = np.zeros((nc,nc))\n",
    "        \n",
    "    # bellman equation for maximizing opponent\n",
    "    for coins_on_table in range(1,nc+1):\n",
    "        for left in range(nc-coins_on_table+1):\n",
    "            if coins_on_table==1:\n",
    "                V[left,left] = coins[left]\n",
    "                U[left,left] = 0\n",
    "            elif coins_on_table == 2:\n",
    "                choices = [coins[left],coins[left+1]]\n",
    "                V[left,left+1] = np.max(choices)\n",
    "                U[left,left+1] = np.argmax(choices)\n",
    "            else:\n",
    "                right = left+coins_on_table-1\n",
    "                choice_L = coins[left] + min(V[left+1,right-1],V[left+2,right])\n",
    "                choice_R = coins[right] + min(V[left+1,right-1],V[left,right-2])\n",
    "                choices = [choice_L,choice_R]\n",
    "                V[left,right] = np.max(choices)\n",
    "                U[left,right] = np.argmax(choices)\n",
    "    return V,U    "
   ]
  },
  {
   "cell_type": "code",
   "execution_count": 42,
   "id": "65249d5d",
   "metadata": {},
   "outputs": [],
   "source": [
    "V,U = solve_coin_game([1,1,10,5,25,1,100,100,10,25,10,5])"
   ]
  },
  {
   "cell_type": "code",
   "execution_count": 43,
   "id": "8bef8f8d",
   "metadata": {},
   "outputs": [
    {
     "data": {
      "text/plain": [
       "array([[  1.,   1.,  11.,  11.,  31.,  36., 107., 136., 117., 161., 133.,\n",
       "        160.],\n",
       "       [  0.,   1.,  10.,   6.,  35.,   7., 135., 107., 145., 132., 155.,\n",
       "        137.],\n",
       "       [  0.,   0.,  10.,  10.,  30.,  35., 106., 135., 116., 160., 141.,\n",
       "        155.],\n",
       "       [  0.,   0.,   0.,   5.,  25.,   6., 125., 106., 135., 131., 145.,\n",
       "        136.],\n",
       "       [  0.,   0.,   0.,   0.,  25.,  25., 101., 125., 126., 135., 145.,\n",
       "        151.],\n",
       "       [  0.,   0.,   0.,   0.,   0.,   1., 100., 101., 110., 126., 126.,\n",
       "        125.],\n",
       "       [  0.,   0.,   0.,   0.,   0.,   0., 100., 100., 110., 125., 120.,\n",
       "        130.],\n",
       "       [  0.,   0.,   0.,   0.,   0.,   0.,   0., 100., 100., 110., 125.,\n",
       "        120.],\n",
       "       [  0.,   0.,   0.,   0.,   0.,   0.,   0.,   0.,  10.,  25.,  20.,\n",
       "         30.],\n",
       "       [  0.,   0.,   0.,   0.,   0.,   0.,   0.,   0.,   0.,  25.,  25.,\n",
       "         30.],\n",
       "       [  0.,   0.,   0.,   0.,   0.,   0.,   0.,   0.,   0.,   0.,  10.,\n",
       "         10.],\n",
       "       [  0.,   0.,   0.,   0.,   0.,   0.,   0.,   0.,   0.,   0.,   0.,\n",
       "          5.]])"
      ]
     },
     "execution_count": 43,
     "metadata": {},
     "output_type": "execute_result"
    }
   ],
   "source": [
    "V"
   ]
  },
  {
   "cell_type": "code",
   "execution_count": 44,
   "id": "69846bcf",
   "metadata": {},
   "outputs": [
    {
     "data": {
      "text/plain": [
       "array([[ 0.,  0.,  1.,  0.,  1.,  0.,  1.,  0.,  1.,  1.,  0.,  1.],\n",
       "       [nan,  0.,  1.,  0.,  1.,  0.,  1.,  0.,  1.,  1.,  1.,  0.],\n",
       "       [nan, nan,  0.,  0.,  1.,  0.,  1.,  0.,  0.,  1.,  0.,  0.],\n",
       "       [nan, nan, nan,  0.,  1.,  0.,  1.,  0.,  1.,  0.,  1.,  1.],\n",
       "       [nan, nan, nan, nan,  0.,  0.,  1.,  0.,  0.,  0.,  0.,  0.],\n",
       "       [nan, nan, nan, nan, nan,  0.,  1.,  0.,  1.,  1.,  0.,  1.],\n",
       "       [nan, nan, nan, nan, nan, nan,  0.,  0.,  0.,  0.,  0.,  0.],\n",
       "       [nan, nan, nan, nan, nan, nan, nan,  0.,  0.,  0.,  0.,  0.],\n",
       "       [nan, nan, nan, nan, nan, nan, nan, nan,  0.,  1.,  0.,  1.],\n",
       "       [nan, nan, nan, nan, nan, nan, nan, nan, nan,  0.,  0.,  0.],\n",
       "       [nan, nan, nan, nan, nan, nan, nan, nan, nan, nan,  0.,  0.],\n",
       "       [nan, nan, nan, nan, nan, nan, nan, nan, nan, nan, nan,  0.]])"
      ]
     },
     "execution_count": 44,
     "metadata": {},
     "output_type": "execute_result"
    }
   ],
   "source": [
    "U"
   ]
  },
  {
   "cell_type": "code",
   "execution_count": 45,
   "id": "4a9a1be8",
   "metadata": {},
   "outputs": [
    {
     "name": "stdout",
     "output_type": "stream",
     "text": [
      "The coins on the table are\n",
      "[100  50  10  25   5  10 100 100   5  10  25  25 100   1   5   5]\n",
      "Do you want to go first (input 1) or second (input 2)?1\n",
      "\n",
      "\n",
      "\n",
      "Your score is 0\n",
      "The computer's score is 0\n",
      "The coins on the table are\n",
      "[100  50  10  25   5  10 100 100   5  10  25  25 100   1   5   5]\n",
      "What coin do you want to pickup, L or R?L\n",
      "\n",
      "\n",
      "The computer picked up the coin on the left\n",
      "\n",
      "\n",
      "\n",
      "Your score is 100\n",
      "The computer's score is 50\n",
      "The coins on the table are\n",
      "[ 10  25   5  10 100 100   5  10  25  25 100   1   5   5]\n",
      "What coin do you want to pickup, L or R?L\n",
      "\n",
      "\n",
      "The computer picked up the coin on the left\n",
      "\n",
      "\n",
      "\n",
      "Your score is 110\n",
      "The computer's score is 75\n",
      "The coins on the table are\n",
      "[  5  10 100 100   5  10  25  25 100   1   5   5]\n",
      "What coin do you want to pickup, L or R?L\n",
      "\n",
      "\n",
      "The computer picked up the coin on the left\n",
      "\n",
      "\n",
      "\n",
      "Your score is 115\n",
      "The computer's score is 85\n",
      "The coins on the table are\n",
      "[100 100   5  10  25  25 100   1   5   5]\n",
      "What coin do you want to pickup, L or R?L\n",
      "\n",
      "\n",
      "The computer picked up the coin on the left\n",
      "\n",
      "\n",
      "\n",
      "Your score is 215\n",
      "The computer's score is 185\n",
      "The coins on the table are\n",
      "[  5  10  25  25 100   1   5   5]\n",
      "What coin do you want to pickup, L or R?L\n",
      "\n",
      "\n",
      "The computer picked up the coin on the left\n",
      "\n",
      "\n",
      "\n",
      "Your score is 220\n",
      "The computer's score is 195\n",
      "The coins on the table are\n",
      "[ 25  25 100   1   5   5]\n",
      "What coin do you want to pickup, L or R?L\n",
      "\n",
      "\n",
      "The computer picked up the coin on the left\n",
      "\n",
      "\n",
      "\n",
      "Your score is 245\n",
      "The computer's score is 220\n",
      "The coins on the table are\n",
      "[100   1   5   5]\n",
      "What coin do you want to pickup, L or R?L\n",
      "\n",
      "\n",
      "The computer picked up the coin on the left\n",
      "\n",
      "\n",
      "\n",
      "Your score is 345\n",
      "The computer's score is 221\n",
      "The coins on the table are\n",
      "[5 5]\n",
      "What coin do you want to pickup, L or R?L\n",
      "\n",
      "\n",
      "The computer picked up the coin on the left\n",
      "Your score was 350\n",
      "The computer's score was 226\n",
      "Congratulations, you won!\n"
     ]
    }
   ],
   "source": [
    "################### let's play the game\n",
    "nc = 16\n",
    "coins = np.random.choice([1,5,10,25,50,100],nc,replace=True)\n",
    "\n",
    "V,U = solve_coin_game(coins)\n",
    "print('The coins on the table are')\n",
    "print(coins)\n",
    "\n",
    "turn = input('Do you want to go first (input 1) or second (input 2)?')\n",
    "\n",
    "left = 0\n",
    "right = nc-1\n",
    "my_score = 0\n",
    "opp_score = 0\n",
    "\n",
    "if turn == '2':\n",
    "    pickup_opp = U[left,right]\n",
    "    if pickup_opp == 0:\n",
    "        print('The computer picked up the coin on the left')\n",
    "        opp_score += coins[left]\n",
    "        left += 1\n",
    "        nc -= 1\n",
    "    else:\n",
    "        print('The computer picked up the coin on the right')\n",
    "        opp_score += coins[right]\n",
    "        right -= 1\n",
    "        nc -=1\n",
    "\n",
    "while nc > 0:\n",
    "    print('\\n\\n')\n",
    "    print('Your score is '+str(my_score))\n",
    "    print(\"The computer's score is \"+str(opp_score))\n",
    "    print('The coins on the table are')\n",
    "    print(coins[left:right+1])\n",
    "    pickup_me = input('What coin do you want to pickup, L or R?')\n",
    "    if (pickup_me == 'L') | (pickup_me == 'l'):\n",
    "        my_score += coins[left]\n",
    "        left += 1\n",
    "        nc -= 1\n",
    "    else:\n",
    "        my_score += coins[right]\n",
    "        right -= 1\n",
    "        nc -= 1\n",
    "        \n",
    "    if nc > 0:\n",
    "        \n",
    "        pickup_opp = U[left,right]\n",
    "        print('\\n')\n",
    "        if pickup_opp == 0:\n",
    "            print('The computer picked up the coin on the left')\n",
    "            opp_score += coins[left]\n",
    "            left += 1\n",
    "            nc -= 1\n",
    "        else:\n",
    "            print('The computer picked up the coin on the right')\n",
    "            opp_score += coins[right]\n",
    "            right -= 1\n",
    "            nc -=1\n",
    "\n",
    "print('Your score was '+str(my_score))\n",
    "print(\"The computer's score was \"+str(opp_score))\n",
    "if my_score >= opp_score:\n",
    "    print('Congratulations, you won!')\n",
    "else:\n",
    "    print('Too bad, you lose :(')"
   ]
  },
  {
   "cell_type": "markdown",
   "id": "0c87cfd4",
   "metadata": {},
   "source": [
    "# ---------------------------------------------------------------------------------------------------------------\n",
    "# Reinforcement Learning----------------------------------------------------------------------------\n",
    "# ---------------------------------------------------------------------------------------------------------------"
   ]
  },
  {
   "cell_type": "markdown",
   "id": "8b5dd1ee",
   "metadata": {},
   "source": [
    "### Deep Q Learning"
   ]
  },
  {
   "cell_type": "markdown",
   "id": "66d58b96",
   "metadata": {},
   "source": [
    "• Approximate the value function using a neural network     \n",
    "   – Input of neural network is the state   \n",
    "   – Output is value function that corresponds to each possible action     \n",
    "• If there are k possible actions, then output layer of NN has k nodes      \n",
    "   – Choose the action with highest value function   \n",
    "• Exploration vs exploitation           \n",
    "   – usually 𝜖-greedy     \n",
    "   \n",
    "   To be just a simple Deep Q-Network we would take an SGD step after each frame was played"
   ]
  },
  {
   "cell_type": "markdown",
   "id": "f77ca57c",
   "metadata": {},
   "source": [
    "##### Temporal Difference (TD)  \n",
    "• Value function today minus value function tomorrow"
   ]
  },
  {
   "cell_type": "markdown",
   "id": "f1755de5",
   "metadata": {},
   "source": [
    "##### SARSA – State Action Reward State Action\n",
    "• To even evaluate that objective at a particular state you need:  \n",
    "– Today’s state (for the first v)  \n",
    "– Today’s action (for the first v)  \n",
    "– Today’s reward (for the r)  \n",
    "– Tomorrow’s state (for tomorrow’s v)  \n",
    "– Tomorrow’s action (don’t really need this for Q-learning…)  "
   ]
  },
  {
   "cell_type": "markdown",
   "id": "f46b0e7d",
   "metadata": {},
   "source": [
    "##### Double Deep Q-Networks   \n",
    "use one network to estimate the truth, while learning on another network  \n",
    "– Periodically update the truth giving network    \n",
    "– This is exactly what we did: find the truth for every frame using the old network weights   \n",
    "then run several SGD steps to update the weights  \n"
   ]
  },
  {
   "cell_type": "markdown",
   "id": "f3b454b8",
   "metadata": {},
   "source": [
    "### Policy Gradients"
   ]
  },
  {
   "cell_type": "markdown",
   "id": "f841df50",
   "metadata": {},
   "source": [
    "In policy gradients we change the way we use the value function  \n",
    "• We don’t explicitly try to optimize the value function  \n",
    "• Instead, we pose the problem of picking the optimal action as a classification problem  \n",
    "• The classification model takes the state/frames as the input and outputs the probability   \n",
    "   of each action being the best"
   ]
  },
  {
   "cell_type": "markdown",
   "id": "8577761b",
   "metadata": {},
   "source": [
    "### Improvements"
   ]
  },
  {
   "cell_type": "code",
   "execution_count": 46,
   "id": "f80b5054",
   "metadata": {},
   "outputs": [],
   "source": [
    "### Memory Buffer"
   ]
  },
  {
   "cell_type": "code",
   "execution_count": null,
   "id": "8a7f88c1",
   "metadata": {},
   "outputs": [],
   "source": []
  },
  {
   "cell_type": "code",
   "execution_count": 47,
   "id": "e6df8739",
   "metadata": {},
   "outputs": [],
   "source": [
    "### Annealing\n",
    "# Start with big epsilon and slowly reduce until it reaches threshold and then stay there"
   ]
  },
  {
   "cell_type": "code",
   "execution_count": null,
   "id": "e7b6d2ae",
   "metadata": {},
   "outputs": [],
   "source": []
  },
  {
   "cell_type": "code",
   "execution_count": 48,
   "id": "3cf6c6d9",
   "metadata": {},
   "outputs": [],
   "source": [
    "### Actor/Critic\n",
    "# Combine DQN with PG, acting and learning can be more focused\n",
    "# – Use PG to pick actions that get chosen\n",
    "# – Use DQN to evaluate if the actions are good or not"
   ]
  },
  {
   "cell_type": "code",
   "execution_count": null,
   "id": "28101833",
   "metadata": {},
   "outputs": [],
   "source": []
  },
  {
   "cell_type": "code",
   "execution_count": 49,
   "id": "4cfb8528",
   "metadata": {},
   "outputs": [],
   "source": [
    "### Dueling Networks"
   ]
  },
  {
   "cell_type": "code",
   "execution_count": null,
   "id": "6353a75d",
   "metadata": {},
   "outputs": [],
   "source": []
  },
  {
   "cell_type": "markdown",
   "id": "c16ce0ec",
   "metadata": {},
   "source": [
    "# Mining Problem----------------------------------------------------------------------------------------"
   ]
  },
  {
   "cell_type": "code",
   "execution_count": 50,
   "id": "dc2cb784",
   "metadata": {},
   "outputs": [],
   "source": [
    "price = 5 # price per ton sold\n",
    "#price = 1\n",
    "M=150 # current tons in mine\n",
    "delta = 0.94 # discount rate\n",
    "T=25 # years with a lease\n",
    "\n",
    "sValues = np.arange(M+1) # all possible levels of ore in mine\n",
    "tValues = np.arange(T+1) # get to mine in years 0-14, in year 15 mine shuts down\n",
    "\n",
    "sN=len(sValues) # how many s and t values are there?\n",
    "tN=len(tValues)"
   ]
  },
  {
   "cell_type": "code",
   "execution_count": 51,
   "id": "17b66094",
   "metadata": {},
   "outputs": [],
   "source": [
    "V=np.zeros((sN,tN)) # value function\n",
    "U=np.zeros((sN,tN)) # place to store optimal number of tons to mine"
   ]
  },
  {
   "cell_type": "code",
   "execution_count": 52,
   "id": "ea9a35f1",
   "metadata": {},
   "outputs": [],
   "source": [
    "V[:,tN-1] = 0 # terminal condition value function.. this is a bit redundant because of lines above, but it's worth repeating!\n",
    "U[:,tN-1] = 0 # terminal tons of ore to mine"
   ]
  },
  {
   "cell_type": "code",
   "execution_count": 53,
   "id": "2ee17d81",
   "metadata": {},
   "outputs": [],
   "source": [
    "for ti in reversed(range(tN-1)): # loop backwards in time\n",
    "    for si in range(sN): # loop over all possible tons of ore in mine\n",
    "        t=tValues[ti] # what is the actual time and tons in the mine\n",
    "        s=sValues[si] \n",
    "        X = np.arange(s+1) # all possible tons of ore I could mine given this level of ore in the mine\n",
    "        valueChoices = price*X - np.exp(X/4)/np.sqrt(1+s) + delta*V[si-X,ti+1] # for each possible decision, what would the value function be?\n",
    "        V[si,ti] = np.max(valueChoices) # pick the one that maximizes that value\n",
    "        U[si,ti] = np.argmax(valueChoices) "
   ]
  },
  {
   "cell_type": "code",
   "execution_count": 54,
   "id": "f609c9de",
   "metadata": {
    "scrolled": false
   },
   "outputs": [
    {
     "name": "stdout",
     "output_type": "stream",
     "text": [
      "Year: 0, Init Ore: 150, Mine: 19.0\n",
      "543.3242372503805\n",
      "Year: 1, Init Ore: 131, Mine: 18.0\n",
      "486.94718396461195\n",
      "Year: 2, Init Ore: 113, Mine: 17.0\n",
      "430.61932933078464\n",
      "Year: 3, Init Ore: 96, Mine: 17.0\n",
      "374.6652157262594\n",
      "Year: 4, Init Ore: 79, Mine: 16.0\n",
      "315.7269594514803\n",
      "Year: 5, Init Ore: 63, Mine: 15.0\n",
      "257.26725340156645\n",
      "Year: 6, Init Ore: 48, Mine: 14.0\n",
      "199.55573260805772\n",
      "Year: 7, Init Ore: 34, Mine: 12.0\n",
      "142.8579909141484\n",
      "Year: 8, Init Ore: 22, Mine: 10.0\n",
      "91.75858118295334\n",
      "Year: 9, Init Ore: 12, Mine: 7.0\n",
      "47.12639018396093\n",
      "Year: 10, Init Ore: 5, Mine: 4.0\n",
      "14.598329575266206\n",
      "Year: 11, Init Ore: 1, Mine: 1.0\n",
      "-4.565889909857877\n",
      "Year: 12, Init Ore: 0, Mine: 0.0\n",
      "-9.210581734576696\n",
      "Year: 13, Init Ore: 0, Mine: 0.0\n",
      "-8.734661419762443\n",
      "Year: 14, Init Ore: 0, Mine: 0.0\n",
      "-8.228363212513237\n",
      "Year: 15, Init Ore: 0, Mine: 0.0\n",
      "-7.689748098418337\n",
      "Year: 16, Init Ore: 0, Mine: 0.0\n",
      "-7.116753296189721\n",
      "Year: 17, Init Ore: 0, Mine: 0.0\n",
      "-6.507184357648639\n",
      "Year: 18, Init Ore: 0, Mine: 0.0\n",
      "-5.8587067634559995\n",
      "Year: 19, Init Ore: 0, Mine: 0.0\n",
      "-5.168836982399999\n",
      "Year: 20, Init Ore: 0, Mine: 0.0\n",
      "-4.434932959999999\n",
      "Year: 21, Init Ore: 0, Mine: 0.0\n",
      "-3.654184\n",
      "Year: 22, Init Ore: 0, Mine: 0.0\n",
      "-2.8236\n",
      "Year: 23, Init Ore: 0, Mine: 0.0\n",
      "-1.94\n",
      "Year: 24, Init Ore: 0, Mine: 0.0\n",
      "-1.0\n"
     ]
    }
   ],
   "source": [
    "profit = []\n",
    "total = []\n",
    "s=M # at the initial time there are 100 tons of ore\n",
    "for t in range(T):\n",
    "    si=s\n",
    "    print(\"Year: \",t,\", Init Ore: \",s,\", Mine: \",U[si,t], sep='')\n",
    "    print(V[si,t])\n",
    "    s=int(s-U[si,t]) # remove this amount from the mine"
   ]
  },
  {
   "cell_type": "code",
   "execution_count": 55,
   "id": "1d840f48",
   "metadata": {},
   "outputs": [
    {
     "data": {
      "text/plain": [
       "543.3242372503805"
      ]
     },
     "execution_count": 55,
     "metadata": {},
     "output_type": "execute_result"
    }
   ],
   "source": [
    "V[150,0]"
   ]
  },
  {
   "cell_type": "markdown",
   "id": "47ca4dcb",
   "metadata": {},
   "source": [
    "# Pong-------------------------------------------------------------------------------------------------------"
   ]
  },
  {
   "cell_type": "code",
   "execution_count": 58,
   "id": "46a4019a",
   "metadata": {},
   "outputs": [
    {
     "name": "stdout",
     "output_type": "stream",
     "text": [
      "copying adventure.bin from HC ROMS/BY ALPHABET (PAL)/A-G/Adventure (PAL).bin to C:\\Users\\smkal\\anaconda3\\lib\\site-packages\\atari_py\\atari_roms\\adventure.bin\n",
      "copying air_raid.bin from HC ROMS/BY ALPHABET (PAL)/A-G/Air Raid (PAL).bin to C:\\Users\\smkal\\anaconda3\\lib\\site-packages\\atari_py\\atari_roms\\air_raid.bin\n",
      "copying alien.bin from HC ROMS/BY ALPHABET (PAL)/A-G/REMAINING NTSC ORIGINALS/Alien.bin to C:\\Users\\smkal\\anaconda3\\lib\\site-packages\\atari_py\\atari_roms\\alien.bin\n",
      "copying crazy_climber.bin from HC ROMS/BY ALPHABET (PAL)/A-G/REMAINING NTSC ORIGINALS/Crazy Climber.bin to C:\\Users\\smkal\\anaconda3\\lib\\site-packages\\atari_py\\atari_roms\\crazy_climber.bin\n",
      "copying elevator_action.bin from HC ROMS/BY ALPHABET (PAL)/A-G/REMAINING NTSC ORIGINALS/Elevator Action (Prototype).bin to C:\\Users\\smkal\\anaconda3\\lib\\site-packages\\atari_py\\atari_roms\\elevator_action.bin\n",
      "copying gravitar.bin from HC ROMS/BY ALPHABET (PAL)/A-G/REMAINING NTSC ORIGINALS/Gravitar.bin to C:\\Users\\smkal\\anaconda3\\lib\\site-packages\\atari_py\\atari_roms\\gravitar.bin\n",
      "copying keystone_kapers.bin from HC ROMS/BY ALPHABET (PAL)/H-R/Keystone Kapers (PAL).bin to C:\\Users\\smkal\\anaconda3\\lib\\site-packages\\atari_py\\atari_roms\\keystone_kapers.bin\n",
      "copying king_kong.bin from HC ROMS/BY ALPHABET (PAL)/H-R/King Kong (PAL).bin to C:\\Users\\smkal\\anaconda3\\lib\\site-packages\\atari_py\\atari_roms\\king_kong.bin\n",
      "copying laser_gates.bin from HC ROMS/BY ALPHABET (PAL)/H-R/Laser Gates (PAL).bin to C:\\Users\\smkal\\anaconda3\\lib\\site-packages\\atari_py\\atari_roms\\laser_gates.bin\n",
      "copying mr_do.bin from HC ROMS/BY ALPHABET (PAL)/H-R/Mr. Do! (PAL).bin to C:\\Users\\smkal\\anaconda3\\lib\\site-packages\\atari_py\\atari_roms\\mr_do.bin\n",
      "copying pacman.bin from HC ROMS/BY ALPHABET (PAL)/H-R/Pac-Man (PAL).bin to C:\\Users\\smkal\\anaconda3\\lib\\site-packages\\atari_py\\atari_roms\\pacman.bin\n",
      "copying jamesbond.bin from HC ROMS/BY ALPHABET (PAL)/H-R/REMAINING NTSC ORIGINALS/James Bond 007.bin to C:\\Users\\smkal\\anaconda3\\lib\\site-packages\\atari_py\\atari_roms\\jamesbond.bin\n",
      "copying koolaid.bin from HC ROMS/BY ALPHABET (PAL)/H-R/REMAINING NTSC ORIGINALS/Kool-Aid Man.bin to C:\\Users\\smkal\\anaconda3\\lib\\site-packages\\atari_py\\atari_roms\\koolaid.bin\n",
      "copying krull.bin from HC ROMS/BY ALPHABET (PAL)/H-R/REMAINING NTSC ORIGINALS/Krull.bin to C:\\Users\\smkal\\anaconda3\\lib\\site-packages\\atari_py\\atari_roms\\krull.bin\n",
      "copying montezuma_revenge.bin from HC ROMS/BY ALPHABET (PAL)/H-R/REMAINING NTSC ORIGINALS/Montezuma's Revenge - Featuring Panama Joe.bin to C:\\Users\\smkal\\anaconda3\\lib\\site-packages\\atari_py\\atari_roms\\montezuma_revenge.bin\n",
      "copying star_gunner.bin from HC ROMS/BY ALPHABET (PAL)/S-Z/REMAINING NTSC ORIGINALS/Stargunner.bin to C:\\Users\\smkal\\anaconda3\\lib\\site-packages\\atari_py\\atari_roms\\star_gunner.bin\n",
      "copying time_pilot.bin from HC ROMS/BY ALPHABET (PAL)/S-Z/REMAINING NTSC ORIGINALS/Time Pilot.bin to C:\\Users\\smkal\\anaconda3\\lib\\site-packages\\atari_py\\atari_roms\\time_pilot.bin\n",
      "copying up_n_down.bin from HC ROMS/BY ALPHABET (PAL)/S-Z/REMAINING NTSC ORIGINALS/Up 'n Down.bin to C:\\Users\\smkal\\anaconda3\\lib\\site-packages\\atari_py\\atari_roms\\up_n_down.bin\n",
      "copying sir_lancelot.bin from HC ROMS/BY ALPHABET (PAL)/S-Z/Sir Lancelot (PAL).bin to C:\\Users\\smkal\\anaconda3\\lib\\site-packages\\atari_py\\atari_roms\\sir_lancelot.bin\n",
      "copying amidar.bin from HC ROMS/BY ALPHABET/A-G/Amidar.bin to C:\\Users\\smkal\\anaconda3\\lib\\site-packages\\atari_py\\atari_roms\\amidar.bin\n",
      "copying asteroids.bin from HC ROMS/BY ALPHABET/A-G/Asteroids [no copyright].bin to C:\\Users\\smkal\\anaconda3\\lib\\site-packages\\atari_py\\atari_roms\\asteroids.bin\n",
      "copying atlantis.bin from HC ROMS/BY ALPHABET/A-G/Atlantis.bin to C:\\Users\\smkal\\anaconda3\\lib\\site-packages\\atari_py\\atari_roms\\atlantis.bin\n",
      "copying bank_heist.bin from HC ROMS/BY ALPHABET/A-G/Bank Heist.bin to C:\\Users\\smkal\\anaconda3\\lib\\site-packages\\atari_py\\atari_roms\\bank_heist.bin\n",
      "copying battle_zone.bin from HC ROMS/BY ALPHABET/A-G/Battlezone.bin to C:\\Users\\smkal\\anaconda3\\lib\\site-packages\\atari_py\\atari_roms\\battle_zone.bin\n",
      "copying beam_rider.bin from HC ROMS/BY ALPHABET/A-G/Beamrider.bin to C:\\Users\\smkal\\anaconda3\\lib\\site-packages\\atari_py\\atari_roms\\beam_rider.bin\n",
      "copying berzerk.bin from HC ROMS/BY ALPHABET/A-G/Berzerk.bin to C:\\Users\\smkal\\anaconda3\\lib\\site-packages\\atari_py\\atari_roms\\berzerk.bin\n",
      "copying bowling.bin from HC ROMS/BY ALPHABET/A-G/Bowling.bin to C:\\Users\\smkal\\anaconda3\\lib\\site-packages\\atari_py\\atari_roms\\bowling.bin\n",
      "copying boxing.bin from HC ROMS/BY ALPHABET/A-G/Boxing.bin to C:\\Users\\smkal\\anaconda3\\lib\\site-packages\\atari_py\\atari_roms\\boxing.bin\n",
      "copying breakout.bin from HC ROMS/BY ALPHABET/A-G/Breakout - Breakaway IV.bin to C:\\Users\\smkal\\anaconda3\\lib\\site-packages\\atari_py\\atari_roms\\breakout.bin\n",
      "copying carnival.bin from HC ROMS/BY ALPHABET/A-G/Carnival.bin to C:\\Users\\smkal\\anaconda3\\lib\\site-packages\\atari_py\\atari_roms\\carnival.bin\n",
      "copying centipede.bin from HC ROMS/BY ALPHABET/A-G/Centipede.bin to C:\\Users\\smkal\\anaconda3\\lib\\site-packages\\atari_py\\atari_roms\\centipede.bin\n",
      "copying chopper_command.bin from HC ROMS/BY ALPHABET/A-G/Chopper Command.bin to C:\\Users\\smkal\\anaconda3\\lib\\site-packages\\atari_py\\atari_roms\\chopper_command.bin\n",
      "copying defender.bin from HC ROMS/BY ALPHABET/A-G/Defender.bin to C:\\Users\\smkal\\anaconda3\\lib\\site-packages\\atari_py\\atari_roms\\defender.bin\n",
      "copying demon_attack.bin from HC ROMS/BY ALPHABET/A-G/Demon Attack.bin to C:\\Users\\smkal\\anaconda3\\lib\\site-packages\\atari_py\\atari_roms\\demon_attack.bin\n",
      "copying donkey_kong.bin from HC ROMS/BY ALPHABET/A-G/Donkey Kong.bin to C:\\Users\\smkal\\anaconda3\\lib\\site-packages\\atari_py\\atari_roms\\donkey_kong.bin\n",
      "copying double_dunk.bin from HC ROMS/BY ALPHABET/A-G/Double Dunk.bin to C:\\Users\\smkal\\anaconda3\\lib\\site-packages\\atari_py\\atari_roms\\double_dunk.bin\n",
      "copying enduro.bin from HC ROMS/BY ALPHABET/A-G/Enduro.bin to C:\\Users\\smkal\\anaconda3\\lib\\site-packages\\atari_py\\atari_roms\\enduro.bin\n",
      "copying fishing_derby.bin from HC ROMS/BY ALPHABET/A-G/Fishing Derby.bin to C:\\Users\\smkal\\anaconda3\\lib\\site-packages\\atari_py\\atari_roms\\fishing_derby.bin\n",
      "copying freeway.bin from HC ROMS/BY ALPHABET/A-G/Freeway.bin to C:\\Users\\smkal\\anaconda3\\lib\\site-packages\\atari_py\\atari_roms\\freeway.bin\n",
      "copying frogger.bin from HC ROMS/BY ALPHABET/A-G/Frogger.bin to C:\\Users\\smkal\\anaconda3\\lib\\site-packages\\atari_py\\atari_roms\\frogger.bin\n",
      "copying frostbite.bin from HC ROMS/BY ALPHABET/A-G/Frostbite.bin to C:\\Users\\smkal\\anaconda3\\lib\\site-packages\\atari_py\\atari_roms\\frostbite.bin\n",
      "copying galaxian.bin from HC ROMS/BY ALPHABET/A-G/Galaxian.bin to C:\\Users\\smkal\\anaconda3\\lib\\site-packages\\atari_py\\atari_roms\\galaxian.bin\n",
      "copying gopher.bin from HC ROMS/BY ALPHABET/A-G/Gopher.bin to C:\\Users\\smkal\\anaconda3\\lib\\site-packages\\atari_py\\atari_roms\\gopher.bin\n",
      "copying hero.bin from HC ROMS/BY ALPHABET/H-R/H.E.R.O..bin to C:\\Users\\smkal\\anaconda3\\lib\\site-packages\\atari_py\\atari_roms\\hero.bin\n",
      "copying ice_hockey.bin from HC ROMS/BY ALPHABET/H-R/Ice Hockey.bin to C:\\Users\\smkal\\anaconda3\\lib\\site-packages\\atari_py\\atari_roms\\ice_hockey.bin\n",
      "copying journey_escape.bin from HC ROMS/BY ALPHABET/H-R/Journey Escape.bin to C:\\Users\\smkal\\anaconda3\\lib\\site-packages\\atari_py\\atari_roms\\journey_escape.bin\n",
      "copying kaboom.bin from HC ROMS/BY ALPHABET/H-R/Kaboom!.bin to C:\\Users\\smkal\\anaconda3\\lib\\site-packages\\atari_py\\atari_roms\\kaboom.bin\n",
      "copying kangaroo.bin from HC ROMS/BY ALPHABET/H-R/Kangaroo.bin to C:\\Users\\smkal\\anaconda3\\lib\\site-packages\\atari_py\\atari_roms\\kangaroo.bin\n",
      "copying kung_fu_master.bin from HC ROMS/BY ALPHABET/H-R/Kung-Fu Master.bin to C:\\Users\\smkal\\anaconda3\\lib\\site-packages\\atari_py\\atari_roms\\kung_fu_master.bin\n",
      "copying lost_luggage.bin from HC ROMS/BY ALPHABET/H-R/Lost Luggage [no opening scene].bin to C:\\Users\\smkal\\anaconda3\\lib\\site-packages\\atari_py\\atari_roms\\lost_luggage.bin\n",
      "copying ms_pacman.bin from HC ROMS/BY ALPHABET/H-R/Ms. Pac-Man.bin to C:\\Users\\smkal\\anaconda3\\lib\\site-packages\\atari_py\\atari_roms\\ms_pacman.bin\n",
      "copying name_this_game.bin from HC ROMS/BY ALPHABET/H-R/Name This Game.bin to C:\\Users\\smkal\\anaconda3\\lib\\site-packages\\atari_py\\atari_roms\\name_this_game.bin\n",
      "copying phoenix.bin from HC ROMS/BY ALPHABET/H-R/Phoenix.bin to C:\\Users\\smkal\\anaconda3\\lib\\site-packages\\atari_py\\atari_roms\\phoenix.bin\n",
      "copying pitfall.bin from HC ROMS/BY ALPHABET/H-R/Pitfall! - Pitfall Harry's Jungle Adventure.bin to C:\\Users\\smkal\\anaconda3\\lib\\site-packages\\atari_py\\atari_roms\\pitfall.bin\n",
      "copying pooyan.bin from HC ROMS/BY ALPHABET/H-R/Pooyan.bin to C:\\Users\\smkal\\anaconda3\\lib\\site-packages\\atari_py\\atari_roms\\pooyan.bin\n",
      "copying private_eye.bin from HC ROMS/BY ALPHABET/H-R/Private Eye.bin to C:\\Users\\smkal\\anaconda3\\lib\\site-packages\\atari_py\\atari_roms\\private_eye.bin\n",
      "copying qbert.bin from HC ROMS/BY ALPHABET/H-R/Q-bert.bin to C:\\Users\\smkal\\anaconda3\\lib\\site-packages\\atari_py\\atari_roms\\qbert.bin\n",
      "copying riverraid.bin from HC ROMS/BY ALPHABET/H-R/River Raid.bin to C:\\Users\\smkal\\anaconda3\\lib\\site-packages\\atari_py\\atari_roms\\riverraid.bin\n",
      "copying road_runner.bin from patched version of HC ROMS/BY ALPHABET/H-R/Road Runner.bin to C:\\Users\\smkal\\anaconda3\\lib\\site-packages\\atari_py\\atari_roms\\road_runner.bin\n",
      "copying robotank.bin from HC ROMS/BY ALPHABET/H-R/Robot Tank.bin to C:\\Users\\smkal\\anaconda3\\lib\\site-packages\\atari_py\\atari_roms\\robotank.bin\n",
      "copying seaquest.bin from HC ROMS/BY ALPHABET/S-Z/Seaquest.bin to C:\\Users\\smkal\\anaconda3\\lib\\site-packages\\atari_py\\atari_roms\\seaquest.bin\n",
      "copying skiing.bin from HC ROMS/BY ALPHABET/S-Z/Skiing.bin to C:\\Users\\smkal\\anaconda3\\lib\\site-packages\\atari_py\\atari_roms\\skiing.bin\n",
      "copying solaris.bin from HC ROMS/BY ALPHABET/S-Z/Solaris.bin to C:\\Users\\smkal\\anaconda3\\lib\\site-packages\\atari_py\\atari_roms\\solaris.bin\n",
      "copying space_invaders.bin from HC ROMS/BY ALPHABET/S-Z/Space Invaders.bin to C:\\Users\\smkal\\anaconda3\\lib\\site-packages\\atari_py\\atari_roms\\space_invaders.bin\n",
      "copying surround.bin from HC ROMS/BY ALPHABET/S-Z/Surround - Chase.bin to C:\\Users\\smkal\\anaconda3\\lib\\site-packages\\atari_py\\atari_roms\\surround.bin\n",
      "copying tennis.bin from HC ROMS/BY ALPHABET/S-Z/Tennis.bin to C:\\Users\\smkal\\anaconda3\\lib\\site-packages\\atari_py\\atari_roms\\tennis.bin\n",
      "copying trondead.bin from HC ROMS/BY ALPHABET/S-Z/TRON - Deadly Discs.bin to C:\\Users\\smkal\\anaconda3\\lib\\site-packages\\atari_py\\atari_roms\\trondead.bin\n",
      "copying tutankham.bin from HC ROMS/BY ALPHABET/S-Z/Tutankham.bin to C:\\Users\\smkal\\anaconda3\\lib\\site-packages\\atari_py\\atari_roms\\tutankham.bin\n",
      "copying venture.bin from HC ROMS/BY ALPHABET/S-Z/Venture.bin to C:\\Users\\smkal\\anaconda3\\lib\\site-packages\\atari_py\\atari_roms\\venture.bin\n",
      "copying pong.bin from HC ROMS/BY ALPHABET/S-Z/Video Olympics - Pong Sports.bin to C:\\Users\\smkal\\anaconda3\\lib\\site-packages\\atari_py\\atari_roms\\pong.bin\n",
      "copying video_pinball.bin from HC ROMS/BY ALPHABET/S-Z/Video Pinball - Arcade Pinball.bin to C:\\Users\\smkal\\anaconda3\\lib\\site-packages\\atari_py\\atari_roms\\video_pinball.bin\n",
      "copying wizard_of_wor.bin from HC ROMS/BY ALPHABET/S-Z/Wizard of Wor.bin to C:\\Users\\smkal\\anaconda3\\lib\\site-packages\\atari_py\\atari_roms\\wizard_of_wor.bin\n",
      "copying yars_revenge.bin from HC ROMS/BY ALPHABET/S-Z/Yars' Revenge.bin to C:\\Users\\smkal\\anaconda3\\lib\\site-packages\\atari_py\\atari_roms\\yars_revenge.bin\n",
      "copying zaxxon.bin from HC ROMS/BY ALPHABET/S-Z/Zaxxon.bin to C:\\Users\\smkal\\anaconda3\\lib\\site-packages\\atari_py\\atari_roms\\zaxxon.bin\n",
      "copying assault.bin from HC ROMS/NTSC VERSIONS OF PAL ORIGINALS/Assault (AKA Sky Alien) (1983) (Bomb - Onbase) (CA281).bin to C:\\Users\\smkal\\anaconda3\\lib\\site-packages\\atari_py\\atari_roms\\assault.bin\n",
      "copying asterix.bin from ROMS/Asterix (AKA Taz) (07-27-1983) (Atari, Jerome Domurat, Steve Woita) (CX2696) (Prototype).bin to C:\\Users\\smkal\\anaconda3\\lib\\site-packages\\atari_py\\atari_roms\\asterix.bin\n"
     ]
    }
   ],
   "source": [
    "!python -m atari_py.import_roms C:/Users/smkal/Desktop/SK/Roms"
   ]
  },
  {
   "cell_type": "code",
   "execution_count": 59,
   "id": "fb8d1da2",
   "metadata": {},
   "outputs": [],
   "source": [
    "env = gym.make(\"ALE/Pong-v5\")"
   ]
  },
  {
   "cell_type": "code",
   "execution_count": 60,
   "id": "2a9bbb47",
   "metadata": {},
   "outputs": [
    {
     "data": {
      "text/plain": [
       "['NOOP', 'FIRE', 'RIGHT', 'LEFT', 'RIGHTFIRE', 'LEFTFIRE']"
      ]
     },
     "execution_count": 60,
     "metadata": {},
     "output_type": "execute_result"
    }
   ],
   "source": [
    "env.unwrapped.get_action_meanings() "
   ]
  },
  {
   "cell_type": "code",
   "execution_count": 61,
   "id": "6e68595f",
   "metadata": {},
   "outputs": [
    {
     "data": {
      "text/plain": [
       "(210, 160, 3)"
      ]
     },
     "execution_count": 61,
     "metadata": {},
     "output_type": "execute_result"
    }
   ],
   "source": [
    "raw_pixels = env.reset()\n",
    "raw_pixels.shape"
   ]
  },
  {
   "cell_type": "code",
   "execution_count": 62,
   "id": "e862f9cc",
   "metadata": {},
   "outputs": [],
   "source": [
    "def prepro(I):\n",
    "    I = I[35:195,:,:].copy() # crop the top of the image\n",
    "    I = I[::2,::2,0].copy()\n",
    "    I[I == 144] = 0 # erase background (background type 1)\n",
    "    I[I == 109] = 0 # erase background (background type 2)\n",
    "    I[I != 0] = 1 # everything else (paddles, ball) just set to 1\n",
    "    return np.array(I.copy())"
   ]
  },
  {
   "cell_type": "code",
   "execution_count": 63,
   "id": "abbbb3d6",
   "metadata": {},
   "outputs": [
    {
     "data": {
      "text/plain": [
       "(80, 80)"
      ]
     },
     "execution_count": 63,
     "metadata": {},
     "output_type": "execute_result"
    }
   ],
   "source": [
    "pixels = prepro(raw_pixels)\n",
    "pixels.shape"
   ]
  },
  {
   "cell_type": "code",
   "execution_count": 65,
   "id": "a5c8f3d2",
   "metadata": {},
   "outputs": [],
   "source": [
    "######## MY CODE FROM HOMEWORK\n",
    "\n",
    "def playGame():\n",
    "    score = 0\n",
    "    render = True\n",
    "    done = False \n",
    "    raw_pixels = env.reset()\n",
    "    raw_pixels, reward, done, info = env.step(1)\n",
    "    pixels = prepro(raw_pixels)\n",
    "\n",
    "    while not done:\n",
    "        #ball\n",
    "        ball_loc = np.where(pixels[:,10:70] == 1)\n",
    "        ball_avg = np.mean(ball_loc[0])\n",
    "        #my paddle\n",
    "        paddle_loc = np.where(pixels[:,70:72] == 1)\n",
    "        paddle_avg = np.mean(paddle_loc[0])     \n",
    "        \n",
    "        if ball_avg == 79:\n",
    "            action = 2 # DOWN       \n",
    "        elif ball_avg ==1:\n",
    "            action = 3 # UP   \n",
    "        elif (paddle_avg+3) < ball_avg:\n",
    "            action = 3 # UP   \n",
    "        elif (paddle_avg-3) > ball_avg:\n",
    "            action = 2 # DOWN\n",
    "        else:\n",
    "            action = 0 # NOOP\n",
    "            \n",
    "        if render == True: \n",
    "            env.render()\n",
    "            \n",
    "        raw_pixels, reward, done, info = env.step(action)\n",
    "        pixels = prepro(raw_pixels) \n",
    "        score += reward\n",
    "        \n",
    "        if done:\n",
    "            env.reset()\n",
    "            break;\n",
    "    env.close()\n",
    "    return score"
   ]
  },
  {
   "cell_type": "code",
   "execution_count": 66,
   "id": "cd2d7f76",
   "metadata": {},
   "outputs": [
    {
     "name": "stdout",
     "output_type": "stream",
     "text": [
      "This is game #: 1 ...\n"
     ]
    },
    {
     "name": "stderr",
     "output_type": "stream",
     "text": [
      "C:\\Users\\smkal\\anaconda3\\lib\\site-packages\\numpy\\core\\fromnumeric.py:3419: RuntimeWarning: Mean of empty slice.\n",
      "  return _methods._mean(a, axis=axis, dtype=dtype,\n",
      "C:\\Users\\smkal\\anaconda3\\lib\\site-packages\\numpy\\core\\_methods.py:188: RuntimeWarning: invalid value encountered in double_scalars\n",
      "  ret = ret.dtype.type(ret / rcount)\n",
      "C:\\Users\\smkal\\anaconda3\\lib\\site-packages\\gym\\envs\\atari\\environment.py:267: UserWarning: \u001b[33mWARN: We strongly suggest supplying `render_mode` when constructing your environment, e.g., gym.make(ID, render_mode='human'). Using `render_mode` provides access to proper scaling, audio support, and proper framerates.\u001b[0m\n",
      "  logger.warn(\n",
      "C:\\Users\\smkal\\anaconda3\\lib\\site-packages\\pyglet\\image\\codecs\\wic.py:289: UserWarning: [WinError -2147417850] Cannot change thread mode after it is set\n",
      "  warnings.warn(str(err))\n"
     ]
    },
    {
     "name": "stdout",
     "output_type": "stream",
     "text": [
      "The score was: -11.0 \n",
      "\n",
      "This is game #: 2 ...\n",
      "The score was: -4.0 \n",
      "\n",
      "This is game #: 3 ...\n",
      "The score was: -8.0 \n",
      "\n",
      "This is game #: 4 ...\n",
      "The score was: -2.0 \n",
      "\n",
      "This is game #: 5 ...\n",
      "The score was: -12.0 \n",
      "\n",
      "Your average score is:  -7.4\n",
      "You won 0 out of 5 games\n"
     ]
    }
   ],
   "source": [
    "scores = []\n",
    "num_games = 5\n",
    "mycounter = 0\n",
    "wins = 0\n",
    "\n",
    "for i in range(num_games):\n",
    "    mycounter += 1\n",
    "    print('This is game #:', mycounter, '...')\n",
    "    scores.append(playGame())\n",
    "    print('The score was:', scores[i], \"\\n\")\n",
    "    if scores[i] > 0:\n",
    "        wins += 1\n",
    "        \n",
    "print(\"Your average score is: \", np.mean(scores))\n",
    "print(\"You won\", wins, \"out of\", num_games, \"games\")\n",
    "if wins > num_games/2:\n",
    "    print(\"WINNER WINNER CHICKEN DINNER!!\")"
   ]
  },
  {
   "cell_type": "code",
   "execution_count": 72,
   "id": "3ee4d5e0",
   "metadata": {},
   "outputs": [],
   "source": [
    "################# PROFESSOR MITCHELLS CODE\n",
    "\n",
    "def run_one_cycle(model,render=True,slow=True,print_freq = False): # run a cycle of playing game a bunch of times\n",
    "    # intialize the history you need to remember for training\n",
    "    frame_history = []\n",
    "    action_history = []\n",
    "    reward_history = []\n",
    "    # how often do we take each action?\n",
    "    num2 = 0\n",
    "    num3 = 0\n",
    "    num0 = 0\n",
    "    # the score for each game in the cycle, so we can track how good we're doing\n",
    "    scorevec = np.zeros(games_per_cycle)\n",
    "    # make evaluating the NN faster\n",
    "    model.call = tf.function(model.call,experimental_relax_shapes=True)\n",
    "    \n",
    "    for cycle in range(games_per_cycle): # each iteration of this loop is a game played to 21 points\n",
    "        \n",
    "        # we want to consider at least 2 frames when deciding so that we get a sense of speed and direction of the ball\n",
    "        pixel_obs_new = env.reset() # reset the environment for a new game, output is just the initial pixels\n",
    "        pixel_obs_new = prepro(pixel_obs_new) # preprocess this image\n",
    "        pixel_obs_old = np.zeros(pixel_obs_new.shape) # initialize the previous frame as just zeros\n",
    "        \n",
    "        # change of pixels from one frame to the next...\n",
    "        # maybe not the best, maybe should really just store both frames for model to see...tf isn't the bottleneck, playing through gym is...\n",
    "        pixel_delta = pixel_obs_new-pixel_obs_old \n",
    "        score = 0\n",
    "        done = False # done gets returned from the environment to tell you if this game (first to 21 points) is over\n",
    "        while not done:\n",
    "\n",
    "            pixel_feed = np.zeros((1,80,80,1)) # what to give the model\n",
    "            pixel_feed[0,:,:,0] = pixel_delta # put in the pixel change\n",
    "            # get probabilities of up/down/still\n",
    "            probs = model(pixel_feed,training=False).numpy()[0]# model.predict(pixel_feed)...predict is signifincantly slower for some weird reason (overhead...)\n",
    "            # that is the most time consuming line of the whole code! \n",
    "            # training gets WAY faster if you can find a way to parallelize this\n",
    "            # play games in parallel, or something like that\n",
    "            # the problem with straight parallelization is that you can't easily put a TF object on multiple cores\n",
    "            \n",
    "            # we want to flip a coin that lands heads based on probability of up\n",
    "            # if it's heads play up, if it's tails play down\n",
    "            # this is based on the exploration vs exploitation paradigm \n",
    "            # we don't want to just play what we think might be best bc we're probably wrong a lot of times\n",
    "            # allowing for random exploration helps learning\n",
    "            action0 = np.random.choice([0,2,3],p=probs)\n",
    "\n",
    "            if action0 == 2: \n",
    "                num2 += 1\n",
    "                # 2 is up, 3 is down (I think...it might be switched but it doesn't matter as long as we're internally consistent)\n",
    "            elif action0 == 3:\n",
    "                num3 += 1\n",
    "            else:\n",
    "                num0 += 1\n",
    "            \n",
    "            \n",
    "            if render == True: # do you actually want to visualize the playing?\n",
    "                env.render()\n",
    "                #if slow == True: # do you want to slow it down so you can see the game better?\n",
    "                 #   time.sleep(0.0000000001)\n",
    "            \n",
    "            pixel_obs_old = pixel_obs_new # shift new to old\n",
    "            pixel_obs_new, reward, done, info = env.step(action0) # play the action and return what happens next\n",
    "            frame_history.append(pixel_delta) # store the frames that lead to that action\n",
    "            pixel_obs_new = prepro(pixel_obs_new) # process the new image\n",
    "            # since we're using sparse_categorical_crossentropy the output layer's values MUST be 0 and 1 and 2\n",
    "            if action0 == 0: \n",
    "                action = 0 # let action 0 (nothing) be remembered as 0\n",
    "            elif action0 == 2: # let action 2 (up) be remembered as 1\n",
    "                action = 1\n",
    "            else: # let action 3 (down) be rememebered as 2\n",
    "                action = 2\n",
    "            action_history.append(action) # remember the action and what our reward was\n",
    "            reward_history.append(reward)\n",
    "            \n",
    "            pixel_delta = pixel_obs_new-pixel_obs_old # calculate the new pixel change\n",
    "            score += reward # keep track of our score\n",
    "            \n",
    "            if done:\n",
    "                env.reset()\n",
    "                break;\n",
    "        \n",
    "        env.close()\n",
    "\n",
    "        scorevec[cycle] = score # remember this game's score\n",
    "    # process everything we stored into appropriate np arrays\n",
    "    nframes = len(reward_history)\n",
    "    action_history = np.array(action_history[1:]) # don't learn from the 0th frame...it was basically random\n",
    "    reward_history = np.array(reward_history[1:])\n",
    "    \n",
    "    # rearrange frames\n",
    "    frame_array = np.zeros((nframes-1,80,80,1))\n",
    "    for f in range(nframes-1):\n",
    "        frame_array[f,:,:,0] = frame_history[f+1]\n",
    "    if print_freq == True:\n",
    "        print(num0/(num0+num2+num3), num2/(num0+num2+num3), num3/(num0+num2+num3))\n",
    "    return frame_array, action_history, reward_history, np.mean(scorevec)"
   ]
  },
  {
   "cell_type": "code",
   "execution_count": 73,
   "id": "cd423cf6",
   "metadata": {},
   "outputs": [],
   "source": [
    "# let's load a model I spent 2-3 days training\n",
    "mod2 = tf.keras.models.load_model('pong_model_best3actions.tf')"
   ]
  },
  {
   "cell_type": "code",
   "execution_count": 74,
   "id": "21968866",
   "metadata": {},
   "outputs": [],
   "source": [
    "# let's see how that model does\n",
    "games_per_cycle = 1\n",
    "frames, actions, rewards, meanscore = run_one_cycle(mod2,render=True,slow=True)"
   ]
  },
  {
   "cell_type": "code",
   "execution_count": 75,
   "id": "7ade10fa",
   "metadata": {},
   "outputs": [
    {
     "data": {
      "text/plain": [
       "14.0"
      ]
     },
     "execution_count": 75,
     "metadata": {},
     "output_type": "execute_result"
    }
   ],
   "source": [
    "meanscore"
   ]
  },
  {
   "cell_type": "code",
   "execution_count": 76,
   "id": "52843a85",
   "metadata": {},
   "outputs": [
    {
     "data": {
      "image/png": "[encoded data removed]",
      "text/plain": [
       "<Figure size 432x288 with 1 Axes>"
      ]
     },
     "metadata": {
      "needs_background": "light"
     },
     "output_type": "display_data"
    }
   ],
   "source": [
    "# pixels[:,70:72]  ## all potential right paddle locations\n",
    "# pixels[:,10:70]  ## all potential ball locations\n",
    "# pixels[20:25,8:10] = 10\n",
    "plt.pcolor(pixels);"
   ]
  },
  {
   "cell_type": "markdown",
   "id": "26454ab1",
   "metadata": {},
   "source": [
    "# Newsvendor with quick printing----------------------------------------------------------------- "
   ]
  },
  {
   "cell_type": "code",
   "execution_count": 77,
   "id": "f543678e",
   "metadata": {},
   "outputs": [],
   "source": [
    "df = pd.read_csv('demand230.csv').drop(columns = 'Unnamed: 0').rename(columns = {'data_point':'day'})"
   ]
  },
  {
   "cell_type": "code",
   "execution_count": 78,
   "id": "989a429e",
   "metadata": {},
   "outputs": [],
   "source": [
    "cost = 2.25\n",
    "qcost = 3.10\n",
    "price = 3.75"
   ]
  },
  {
   "cell_type": "code",
   "execution_count": 79,
   "id": "90c318b1",
   "metadata": {},
   "outputs": [],
   "source": [
    "# decision variables are (q, h1, h2, ..., h100)\n",
    "obj = np.ones(101)/100\n",
    "obj[0] = 0\n",
    "lb = np.array([-np.inf]*101)\n",
    "lb[0]=0\n",
    "rhs = np.zeros(200)\n",
    "direction = np.array(['<']*200)\n",
    "A = np.zeros((200, 101))"
   ]
  },
  {
   "cell_type": "code",
   "execution_count": 80,
   "id": "0b6758eb",
   "metadata": {},
   "outputs": [],
   "source": [
    "for day in range(100):\n",
    "    \n",
    "    A[2*day,[0,day+1]] = [cost-qcost,1] # hi <= p*Di - q*c - g*(Di-q)  ----> (c-g)q + h <= (p-g)D\n",
    "    rhs[2*day] = (price-qcost)*df.demand[day]\n",
    "    \n",
    "    A[2*day+1,[0,day+1]] = [cost,1]     # hi <= p*Di - q*c             ----> (c)q + h <= (p)D\n",
    "    rhs[2*day+1] = price*df.demand[day]"
   ]
  },
  {
   "cell_type": "code",
   "execution_count": 81,
   "id": "89a6f6f6",
   "metadata": {},
   "outputs": [],
   "source": [
    "spMod = gp.Model()\n",
    "spMod_x = spMod.addMVar(len(obj),lb=lb) \n",
    "spMod_con = spMod.addMConstrs(A, spMod_x, direction, rhs) \n",
    "spMod.setMObjective(None,obj,0,sense=gp.GRB.MAXIMIZE) \n",
    "spMod.Params.OutputFlag = 0 \n",
    "spMod.optimize()"
   ]
  },
  {
   "cell_type": "code",
   "execution_count": 82,
   "id": "5b85a8d9",
   "metadata": {},
   "outputs": [
    {
     "data": {
      "text/plain": [
       "1381.0"
      ]
     },
     "execution_count": 82,
     "metadata": {},
     "output_type": "execute_result"
    }
   ],
   "source": [
    "spMod_x.x[0]"
   ]
  },
  {
   "cell_type": "code",
   "execution_count": 83,
   "id": "bc0ebebb",
   "metadata": {},
   "outputs": [
    {
     "data": {
      "text/plain": [
       "1381"
      ]
     },
     "execution_count": 83,
     "metadata": {},
     "output_type": "execute_result"
    }
   ],
   "source": [
    "## Let's double check!!\n",
    "\n",
    "qs = np.arange(1300,1450)\n",
    "nq = len(qs)\n",
    "outvec = np.zeros(nq)\n",
    "for qi in range(nq):\n",
    "    rev = price*df.demand\n",
    "    excess = np.maximum(df.demand - qs[qi],0)\n",
    "    cost2 = qs[qi]*cost + excess*qcost\n",
    "    outvec[qi] = np.mean(rev-cost2)\n",
    "\n",
    "qs[np.argmax(outvec)]"
   ]
  },
  {
   "cell_type": "markdown",
   "id": "d9696af0",
   "metadata": {},
   "source": [
    "# Fishing Problem---------------------------------------------------------------------------------------"
   ]
  },
  {
   "cell_type": "code",
   "execution_count": 84,
   "id": "6ecf46fb",
   "metadata": {},
   "outputs": [],
   "source": [
    "delta = 0.8 # discount rate\n",
    "T = 3 # time till lease expires"
   ]
  },
  {
   "cell_type": "code",
   "execution_count": 85,
   "id": "de097b33",
   "metadata": {},
   "outputs": [],
   "source": [
    "sValues=10*(2**np.arange(T+1)) # all possible tons of fish\n",
    "tValues = np.arange(T+1) # all possible times\n",
    "\n",
    "sN=len(sValues) # count of possible values\n",
    "tN=len(tValues)"
   ]
  },
  {
   "cell_type": "code",
   "execution_count": 86,
   "id": "c6a9eb15",
   "metadata": {},
   "outputs": [],
   "source": [
    "V = np.zeros((sN,tN)) # value function\n",
    "U = np.zeros((sN,tN)) # place to store optimal decision"
   ]
  },
  {
   "cell_type": "code",
   "execution_count": 87,
   "id": "39f90be8",
   "metadata": {},
   "outputs": [],
   "source": [
    "# Boundary conditions\n",
    "V[:,tN-1] = 0 # we already have this since V was initialized with zeros...but in other problems this won't be 0..."
   ]
  },
  {
   "cell_type": "code",
   "execution_count": 88,
   "id": "a7d31e28",
   "metadata": {},
   "outputs": [],
   "source": [
    "for ti in reversed(range(tN-1)): # loop backwards in time\n",
    "    for si in range(ti+1): # at time ti there are only ti+1 possible value of s!!! remember...we index on 0\n",
    "        t = tValues[ti] # grab the actual values of s and t\n",
    "        s = sValues[si]\n",
    "\n",
    "        # value function if we choose not to fish or fish\n",
    "        possible_values = [delta * V[si+1, ti+1],0.7*s + delta * V[si, ti+1]]\n",
    "        V[si, ti] = np.max(possible_values) # optimal value function\n",
    "        U[si, ti] = np.argmax(possible_values) # optimal choice...1 is don't fish, 2 is fish"
   ]
  },
  {
   "cell_type": "code",
   "execution_count": 89,
   "id": "e202b44f",
   "metadata": {},
   "outputs": [
    {
     "name": "stdout",
     "output_type": "stream",
     "text": [
      "[[20.16 12.6   7.    0.  ]\n",
      " [ 0.   25.2  14.    0.  ]\n",
      " [ 0.    0.   28.    0.  ]\n",
      " [ 0.    0.    0.    0.  ]]\n"
     ]
    }
   ],
   "source": [
    "print(V)"
   ]
  },
  {
   "cell_type": "code",
   "execution_count": 90,
   "id": "a86e4207",
   "metadata": {},
   "outputs": [
    {
     "name": "stdout",
     "output_type": "stream",
     "text": [
      "[[0. 1. 1. 0.]\n",
      " [0. 1. 1. 0.]\n",
      " [0. 0. 1. 0.]\n",
      " [0. 0. 0. 0.]]\n"
     ]
    }
   ],
   "source": [
    "print(U)"
   ]
  },
  {
   "cell_type": "code",
   "execution_count": null,
   "id": "777080c9",
   "metadata": {},
   "outputs": [],
   "source": []
  }
 ],
 "metadata": {
  "kernelspec": {
   "display_name": "Python 3 (ipykernel)",
   "language": "python",
   "name": "python3"
  },
  "language_info": {
   "codemirror_mode": {
    "name": "ipython",
    "version": 3
   },
   "file_extension": ".py",
   "mimetype": "text/x-python",
   "name": "python",
   "nbconvert_exporter": "python",
   "pygments_lexer": "ipython3",
   "version": "3.9.7"
  }
 },
 "nbformat": 4,
 "nbformat_minor": 5
}
